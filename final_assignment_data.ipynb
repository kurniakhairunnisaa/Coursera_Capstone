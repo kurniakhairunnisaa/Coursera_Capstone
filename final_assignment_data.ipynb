{
  "nbformat": 4,
  "nbformat_minor": 0,
  "metadata": {
    "colab": {
      "name": "final assignment data.ipynb",
      "provenance": [],
      "toc_visible": true,
      "authorship_tag": "ABX9TyMvar3des060OqxewxDRHn1",
      "include_colab_link": true
    },
    "kernelspec": {
      "name": "python3",
      "display_name": "Python 3"
    }
  },
  "cells": [
    {
      "cell_type": "markdown",
      "metadata": {
        "id": "view-in-github",
        "colab_type": "text"
      },
      "source": [
        "<a href=\"https://colab.research.google.com/github/kurniakhairunnisaa/Coursera_Capstone/blob/branch/final_assignment_data.ipynb\" target=\"_parent\"><img src=\"https://colab.research.google.com/assets/colab-badge.svg\" alt=\"Open In Colab\"/></a>"
      ]
    },
    {
      "cell_type": "markdown",
      "metadata": {
        "id": "YyIeZo05rD1m"
      },
      "source": [
        "####**Data Description**"
      ]
    },
    {
      "cell_type": "markdown",
      "metadata": {
        "id": "XDY_y7ROrGd1"
      },
      "source": [
        "I'll be using dataset from week 3 that is from wikipedia https://en.wikipedia.org/wiki/List_of_postal_codes_of_Canada:_M . The dataset contains location (latitude, longitude) and zip codes features.\r\n",
        "\r\n",
        "I'll be using foursquare API to get the list of neighborhood, and all the facilities/venues including the informations in the neighborhood. I'll be using foursquare database API to search the location of facilities also the details on it. But due to the HTTP limit, the radius would only be set to 500, and the number of places per neighbourhood would be around 50.\r\n",
        "\r\n",
        "The data retrieved from Foursquare contained information of venues within a specified distance of the longitude and latitude of the postcodes. The information obtained per venue as follows:\r\n",
        "\r\n",
        "1. Neighborhood\r\n",
        "2. Neighborhood Latitude\r\n",
        "3. Neighborhood Longitude\r\n",
        "4. Venue\r\n",
        "5. Name of the venue e.g. the name of a store or restaurant\r\n",
        "6. Venue Latitude\r\n",
        "7. Venue Longitude\r\n",
        "8. Venue Category"
      ]
    }
  ]
}