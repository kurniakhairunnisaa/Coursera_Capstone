{
  "nbformat": 4,
  "nbformat_minor": 0,
  "metadata": {
    "colab": {
      "name": "final assignment capstone week 4.ipynb",
      "provenance": [],
      "authorship_tag": "ABX9TyN7d8x41CpIrwWJgCgOm7sX",
      "include_colab_link": true
    },
    "kernelspec": {
      "name": "python3",
      "display_name": "Python 3"
    }
  },
  "cells": [
    {
      "cell_type": "markdown",
      "metadata": {
        "id": "view-in-github",
        "colab_type": "text"
      },
      "source": [
        "<a href=\"https://colab.research.google.com/github/kurniakhairunnisaa/Coursera_Capstone/blob/branch/final_assignment_capstone_week_4.ipynb\" target=\"_parent\"><img src=\"https://colab.research.google.com/assets/colab-badge.svg\" alt=\"Open In Colab\"/></a>"
      ]
    },
    {
      "cell_type": "markdown",
      "metadata": {
        "id": "58fwVWRjkqtt"
      },
      "source": [
        "#**Part 1: Business/Introduction**"
      ]
    },
    {
      "cell_type": "markdown",
      "metadata": {
        "id": "cA9KY5uwm0fI"
      },
      "source": [
        "####**Introduction**"
      ]
    },
    {
      "cell_type": "markdown",
      "metadata": {
        "id": "HYxcFF7vlDXR"
      },
      "source": [
        "This project will be using Toronto data, by previous week's project. There are information about location facilities in Toronto, and this project will try to help people decision for choosing a good facilities around their neighborhood. \r\n",
        "\r\n",
        "One of the case is for choosing a good environment for people's housing or for our neighbourhood, such as which location will give us a good money for the budgeting also for the nearby surrounding facilities. This project will analyze several features like crime rates, road connectivity, the housing price, water environment, etc. This will help people knowledge for the potential good location of their new house/work/school life."
      ]
    },
    {
      "cell_type": "markdown",
      "metadata": {
        "id": "in3XpvxJm7_E"
      },
      "source": [
        "####**Background Discussion**"
      ]
    },
    {
      "cell_type": "markdown",
      "metadata": {
        "id": "UmvNq6pJnGDj"
      },
      "source": [
        "The main point that will attract this project to people is how to efficiently suggest the great neighbourhood to people by analyzing the people preference within their limits of budget. Choosing the ideal society to people such as housing near school and hospital for people who is a doctor, or who is near supermarket for a student who has a partime. So, this project will try to achieve:\r\n",
        "*   Listing the housing price (to get about the budget information)\r\n",
        "*   Listing the schools by its location, reviews, fees, rating\r\n",
        "\r\n",
        "I'll also trying to choose the popular location in Toronto to narrow the analysis."
      ]
    },
    {
      "cell_type": "markdown",
      "metadata": {
        "id": "rPhXwBh6pOfC"
      },
      "source": [
        "####**Data Approach**"
      ]
    },
    {
      "cell_type": "markdown",
      "metadata": {
        "id": "y5phnaKTpNII"
      },
      "source": [
        "I'll be using the same method and cities as in week 3, that is using k-means clustering to compare similarities between two cities, New York and Toronto. I'll segment the neighborhood and cluster them to find the similar neighborhood between Toronto and New York. So, people will have better judgement of their new housing environment."
      ]
    },
    {
      "cell_type": "markdown",
      "metadata": {
        "id": "GkMa8IAkkvmC"
      },
      "source": [
        "#**Part 2: Data**"
      ]
    },
    {
      "cell_type": "markdown",
      "metadata": {
        "id": "YyIeZo05rD1m"
      },
      "source": [
        "####**Data Description**"
      ]
    },
    {
      "cell_type": "markdown",
      "metadata": {
        "id": "XDY_y7ROrGd1"
      },
      "source": [
        "I'll be using dataset from week 3 that is from wikipedia https://en.wikipedia.org/wiki/List_of_postal_codes_of_Canada:_M . The dataset contains location (latitude, longitude) and zip codes features.\r\n",
        "\r\n",
        "I'll be using foursquare API to get the list of neighborhood, and all the facilities/venues including the informations in the neighborhood. I'll be using foursquare database API to search the location of facilities also the details on it. But due to the HTTP limit, the radius would only be set to 500, and the number of places per neighbourhood would be around 50.\r\n",
        "\r\n",
        "The data retrieved from Foursquare contained information of venues within a specified distance of the longitude and latitude of the postcodes. The information obtained per venue as follows:\r\n",
        "\r\n",
        "1. Neighborhood\r\n",
        "2. Neighborhood Latitude\r\n",
        "3. Neighborhood Longitude\r\n",
        "4. Venue\r\n",
        "5. Name of the venue e.g. the name of a store or restaurant\r\n",
        "6. Venue Latitude\r\n",
        "7. Venue Longitude\r\n",
        "8. Venue Category"
      ]
    }
  ]
}