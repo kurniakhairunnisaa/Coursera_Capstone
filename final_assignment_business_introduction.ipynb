{
  "nbformat": 4,
  "nbformat_minor": 0,
  "metadata": {
    "colab": {
      "name": "final assignment business/introduction.ipynb",
      "provenance": [],
      "authorship_tag": "ABX9TyP6+/9Ae9pw4aYu1D14+Tma",
      "include_colab_link": true
    },
    "kernelspec": {
      "name": "python3",
      "display_name": "Python 3"
    }
  },
  "cells": [
    {
      "cell_type": "markdown",
      "metadata": {
        "id": "view-in-github",
        "colab_type": "text"
      },
      "source": [
        "<a href=\"https://colab.research.google.com/github/kurniakhairunnisaa/Coursera_Capstone/blob/branch/final_assignment_business_introduction.ipynb\" target=\"_parent\"><img src=\"https://colab.research.google.com/assets/colab-badge.svg\" alt=\"Open In Colab\"/></a>"
      ]
    },
    {
      "cell_type": "markdown",
      "metadata": {
        "id": "58fwVWRjkqtt"
      },
      "source": [
        "#**Business/Introduction**"
      ]
    },
    {
      "cell_type": "markdown",
      "metadata": {
        "id": "cA9KY5uwm0fI"
      },
      "source": [
        "####**Introduction**"
      ]
    },
    {
      "cell_type": "markdown",
      "metadata": {
        "id": "HYxcFF7vlDXR"
      },
      "source": [
        "This project will be using Toronto data, by previous week's project. There are information about location facilities in Toronto, and this project will try to help people decision for choosing a good facilities around their neighborhood. \r\n",
        "\r\n",
        "One of the case is for choosing a good environment for people's housing or for our neighbourhood, such as which location will give us a good money for the budgeting also for the nearby surrounding facilities. This project will analyze several features like crime rates, road connectivity, the housing price, water environment, etc. This will help people knowledge for the potential good location of their new house/work/school life."
      ]
    },
    {
      "cell_type": "markdown",
      "metadata": {
        "id": "in3XpvxJm7_E"
      },
      "source": [
        "####**Background Discussion**"
      ]
    },
    {
      "cell_type": "markdown",
      "metadata": {
        "id": "UmvNq6pJnGDj"
      },
      "source": [
        "The main point that will attract this project to people is how to efficiently suggest the great neighbourhood to people by analyzing the people preference within their limits of budget. Choosing the ideal society to people such as housing near school and hospital for people who is a doctor, or who is near supermarket for a student who has a partime. So, this project will try to achieve:\r\n",
        "*   Listing the housing price (to get about the budget information)\r\n",
        "*   Listing the schools by its location, reviews, fees, rating\r\n",
        "\r\n",
        "I'll also trying to choose the popular location in Toronto to narrow the analysis."
      ]
    },
    {
      "cell_type": "markdown",
      "metadata": {
        "id": "rPhXwBh6pOfC"
      },
      "source": [
        "####**Data Approach**"
      ]
    },
    {
      "cell_type": "markdown",
      "metadata": {
        "id": "y5phnaKTpNII"
      },
      "source": [
        "I'll be using the same method and cities as in week 3, that is using k-means clustering to compare similarities between two cities, New York and Toronto. I'll segment the neighborhood and cluster them to find the similar neighborhood between Toronto and New York. So, people will have better judgement of their new housing environment."
      ]
    }
  ]
}